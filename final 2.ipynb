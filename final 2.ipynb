{
  "cells": [
    {
      "cell_type": "markdown",
      "metadata": {},
      "source": [
        "# Importing Libraries"
      ]
    },
    {
      "cell_type": "code",
      "execution_count": null,
      "metadata": {
        "id": "63xbjParNQi7"
      },
      "outputs": [],
      "source": [
        "\n",
        "import pandas as pd\n",
        "import matplotlib.pyplot as plt\n",
        "import seaborn as sns\n",
        "\n",
        "from sklearn.compose import ColumnTransformer\n",
        "from sklearn.pipeline import Pipeline\n",
        "from sklearn.preprocessing import StandardScaler, OneHotEncoder\n",
        "from sklearn.model_selection import train_test_split, GridSearchCV, StratifiedKFold\n",
        "from sklearn.metrics import (\n",
        "    classification_report,\n",
        "    confusion_matrix,\n",
        "    ConfusionMatrixDisplay,\n",
        "    roc_auc_score,\n",
        "    roc_curve,\n",
        ")\n",
        "from sklearn.ensemble import RandomForestClassifier, GradientBoostingClassifier\n",
        "from sklearn.linear_model import LogisticRegression\n",
        "from sklearn.svm import SVC\n",
        "from sklearn.neighbors import KNeighborsClassifier\n",
        "from xgboost import XGBClassifier"
      ]
    },
    {
      "cell_type": "markdown",
      "metadata": {},
      "source": [
        "## Step 1: Load & Clean Data"
      ]
    },
    {
      "cell_type": "code",
      "execution_count": null,
      "metadata": {
        "colab": {
          "base_uri": "https://localhost:8080/"
        },
        "id": "FJghpP8ENSBF",
        "outputId": "b341c981-b316-4880-9c9a-a34e8ebe4285"
      },
      "outputs": [
        {
          "name": "stdout",
          "output_type": "stream",
          "text": [
            "             Date          Location  MinTemp  MaxTemp  Rainfall  Evaporation  \\\n",
            "64191  2009-01-01  MelbourneAirport     11.2     19.9       0.0          5.6   \n",
            "64192  2009-01-02  MelbourneAirport      7.8     17.8       1.2          7.2   \n",
            "64193  2009-01-03  MelbourneAirport      6.3     21.1       0.0          6.2   \n",
            "64194  2009-01-04  MelbourneAirport      8.1     29.2       0.0          6.4   \n",
            "64195  2009-01-05  MelbourneAirport      9.7     29.0       0.0          7.4   \n",
            "...           ...               ...      ...      ...       ...          ...   \n",
            "80992  2017-06-20          Watsonia      3.6     14.5       0.0          2.4   \n",
            "80994  2017-06-22          Watsonia      4.8     13.3       0.4          0.6   \n",
            "80995  2017-06-23          Watsonia      5.6     13.1       0.0          1.6   \n",
            "80996  2017-06-24          Watsonia      6.9     12.1       3.2          1.8   \n",
            "80997  2017-06-25          Watsonia      7.9     13.0       0.0          2.8   \n",
            "\n",
            "       Sunshine WindGustDir  WindGustSpeed WindDir9am  ... Humidity9am  \\\n",
            "64191       8.8          SW           69.0          W  ...        55.0   \n",
            "64192      12.9         SSE           56.0         SW  ...        50.0   \n",
            "64193      10.5         SSE           31.0          E  ...        51.0   \n",
            "64194      12.5         SSE           35.0         NE  ...        67.0   \n",
            "64195      12.3          SE           33.0         SW  ...        51.0   \n",
            "...         ...         ...            ...        ...  ...         ...   \n",
            "80992       8.8         NNE           41.0        ENE  ...       100.0   \n",
            "80994       0.0         NNW           24.0         NE  ...       100.0   \n",
            "80995       6.0         NNW           52.0         NE  ...        85.0   \n",
            "80996       5.6         SSW           24.0        WNW  ...        99.0   \n",
            "80997       3.8         NNW           39.0          N  ...        68.0   \n",
            "\n",
            "       Humidity3pm  Pressure9am  Pressure3pm  Cloud9am  Cloud3pm  Temp9am  \\\n",
            "64191         37.0       1005.1       1006.4       7.0       7.0     15.9   \n",
            "64192         43.0       1018.0       1019.3       6.0       7.0     12.5   \n",
            "64193         35.0       1020.8       1017.6       1.0       7.0     13.4   \n",
            "64194         23.0       1016.2       1012.8       5.0       4.0     16.0   \n",
            "64195         31.0       1011.9       1010.3       6.0       2.0     19.4   \n",
            "...            ...          ...          ...       ...       ...      ...   \n",
            "80992         66.0       1028.4       1025.0       1.0       7.0      5.2   \n",
            "80994         63.0       1028.5       1025.1       7.0       7.0      5.6   \n",
            "80995         67.0       1019.0       1014.0       1.0       7.0      8.8   \n",
            "80996         61.0       1018.7       1017.3       2.0       7.0      7.9   \n",
            "80997         69.0       1017.6       1015.3       7.0       7.0      9.0   \n",
            "\n",
            "       Temp3pm  RainYesterday  RainToday  \n",
            "64191     18.1             No        Yes  \n",
            "64192     15.8            Yes         No  \n",
            "64193     19.6             No         No  \n",
            "64194     28.2             No         No  \n",
            "64195     27.1             No         No  \n",
            "...        ...            ...        ...  \n",
            "80992     13.8             No         No  \n",
            "80994     12.4             No         No  \n",
            "80995     11.6             No        Yes  \n",
            "80996     11.0            Yes         No  \n",
            "80997     11.7             No         No  \n",
            "\n",
            "[7557 rows x 23 columns]\n"
          ]
        }
      ],
      "source": [
        "\n",
        "import pandas as pd\n",
        "url = \"https://cf-courses-data.s3.us.cloud-object-storage.appdomain.cloud/_0eYOqji3unP1tDNKWZMjg/weatherAUS-2.csv\"\n",
        "df = pd.read_csv(url)\n",
        "\n",
        "df = df.dropna()\n",
        "\n",
        "# Rename columns\n",
        "df = df.rename(columns={'RainToday': 'RainYesterday',\n",
        "                        'RainTomorrow': 'RainToday'})\n",
        "\n",
        "df = df[df.Location.isin(['Melbourne', 'MelbourneAirport', 'Watsonia'])]\n",
        "\n",
        "\n",
        "df.head()\n",
        "print(df)\n"
      ]
    },
    {
      "cell_type": "markdown",
      "metadata": {},
      "source": []
    },
    {
      "cell_type": "markdown",
      "metadata": {},
      "source": [
        "## Step 2: Feature Engineering"
      ]
    },
    {
      "cell_type": "code",
      "execution_count": null,
      "metadata": {
        "id": "bP9r9EYzNYPe"
      },
      "outputs": [],
      "source": [
        "\n",
        "def date_to_season(date):\n",
        "    month = date.month\n",
        "    if month in [12, 1, 2]:\n",
        "        return 'Summer'\n",
        "    elif month in [3, 4, 5]:\n",
        "        return 'Autumn'\n",
        "    elif month in [6, 7, 8]:\n",
        "        return 'Winter'\n",
        "    else:\n",
        "        return 'Spring'\n",
        "\n",
        "df['Date'] = pd.to_datetime(df['Date'])\n",
        "df['Season'] = df['Date'].apply(date_to_season)\n",
        "df = df.drop(columns='Date')\n",
        "\n",
        "X = df.drop(columns='RainToday', axis=1)\n",
        "y = df['RainToday']"
      ]
    },
    {
      "cell_type": "markdown",
      "metadata": {},
      "source": [
        "## Step 3: Train-Test Split"
      ]
    },
    {
      "cell_type": "code",
      "execution_count": null,
      "metadata": {
        "id": "OKVMchm6NcXj"
      },
      "outputs": [],
      "source": [
        "X_train, X_test, y_train, y_test = train_test_split(\n",
        "    X, y, test_size=0.2, stratify=y, random_state=42\n",
        ")"
      ]
    },
    {
      "cell_type": "markdown",
      "metadata": {},
      "source": [
        "## Step 4: Preprocessing"
      ]
    },
    {
      "cell_type": "code",
      "execution_count": null,
      "metadata": {
        "id": "jvxG-8GHNgZi"
      },
      "outputs": [],
      "source": [
        "numeric_features = X_train.select_dtypes(include=['int64', 'float64']).columns.tolist()\n",
        "categorical_features = X_train.select_dtypes(include=['object']).columns.tolist()\n",
        "\n",
        "numeric_transformer = Pipeline(steps=[('scaler', StandardScaler())])\n",
        "categorical_transformer = Pipeline(steps=[('onehot', OneHotEncoder(handle_unknown='ignore'))])\n",
        "\n",
        "preprocessor = ColumnTransformer(\n",
        "    transformers=[\n",
        "        ('num', numeric_transformer, numeric_features),\n",
        "        ('cat', categorical_transformer, categorical_features)\n",
        "    ]\n",
        ")\n",
        "\n",
        "cv = StratifiedKFold(n_splits=5, shuffle=True, random_state=42)"
      ]
    },
    {
      "cell_type": "markdown",
      "metadata": {},
      "source": [
        "## Step 5: Random Forest"
      ]
    },
    {
      "cell_type": "code",
      "execution_count": null,
      "metadata": {
        "colab": {
          "base_uri": "https://localhost:8080/",
          "height": 1000
        },
        "id": "3Aw9PFCiNiqQ",
        "outputId": "35fbf0ca-5720-47b9-ab99-cf0fa76a50f4"
      },
      "outputs": [
        {
          "name": "stdout",
          "output_type": "stream",
          "text": [
            "Fitting 5 folds for each of 12 candidates, totalling 60 fits\n",
            "[CV] END classifier__max_depth=None, classifier__min_samples_split=2, classifier__n_estimators=50; total time=   0.6s\n",
            "[CV] END classifier__max_depth=None, classifier__min_samples_split=2, classifier__n_estimators=50; total time=   0.6s\n",
            "[CV] END classifier__max_depth=None, classifier__min_samples_split=2, classifier__n_estimators=50; total time=   0.5s\n",
            "[CV] END classifier__max_depth=None, classifier__min_samples_split=2, classifier__n_estimators=50; total time=   0.5s\n",
            "[CV] END classifier__max_depth=None, classifier__min_samples_split=2, classifier__n_estimators=50; total time=   0.5s\n",
            "[CV] END classifier__max_depth=None, classifier__min_samples_split=2, classifier__n_estimators=100; total time=   1.2s\n",
            "[CV] END classifier__max_depth=None, classifier__min_samples_split=2, classifier__n_estimators=100; total time=   1.6s\n",
            "[CV] END classifier__max_depth=None, classifier__min_samples_split=2, classifier__n_estimators=100; total time=   1.2s\n",
            "[CV] END classifier__max_depth=None, classifier__min_samples_split=2, classifier__n_estimators=100; total time=   1.0s\n",
            "[CV] END classifier__max_depth=None, classifier__min_samples_split=2, classifier__n_estimators=100; total time=   1.0s\n",
            "[CV] END classifier__max_depth=None, classifier__min_samples_split=5, classifier__n_estimators=50; total time=   0.5s\n",
            "[CV] END classifier__max_depth=None, classifier__min_samples_split=5, classifier__n_estimators=50; total time=   0.5s\n",
            "[CV] END classifier__max_depth=None, classifier__min_samples_split=5, classifier__n_estimators=50; total time=   0.5s\n",
            "[CV] END classifier__max_depth=None, classifier__min_samples_split=5, classifier__n_estimators=50; total time=   0.5s\n",
            "[CV] END classifier__max_depth=None, classifier__min_samples_split=5, classifier__n_estimators=50; total time=   0.5s\n",
            "[CV] END classifier__max_depth=None, classifier__min_samples_split=5, classifier__n_estimators=100; total time=   1.1s\n",
            "[CV] END classifier__max_depth=None, classifier__min_samples_split=5, classifier__n_estimators=100; total time=   1.0s\n",
            "[CV] END classifier__max_depth=None, classifier__min_samples_split=5, classifier__n_estimators=100; total time=   1.0s\n",
            "[CV] END classifier__max_depth=None, classifier__min_samples_split=5, classifier__n_estimators=100; total time=   1.0s\n",
            "[CV] END classifier__max_depth=None, classifier__min_samples_split=5, classifier__n_estimators=100; total time=   1.3s\n",
            "[CV] END classifier__max_depth=10, classifier__min_samples_split=2, classifier__n_estimators=50; total time=   0.6s\n",
            "[CV] END classifier__max_depth=10, classifier__min_samples_split=2, classifier__n_estimators=50; total time=   0.6s\n",
            "[CV] END classifier__max_depth=10, classifier__min_samples_split=2, classifier__n_estimators=50; total time=   0.5s\n",
            "[CV] END classifier__max_depth=10, classifier__min_samples_split=2, classifier__n_estimators=50; total time=   0.4s\n",
            "[CV] END classifier__max_depth=10, classifier__min_samples_split=2, classifier__n_estimators=50; total time=   0.4s\n",
            "[CV] END classifier__max_depth=10, classifier__min_samples_split=2, classifier__n_estimators=100; total time=   0.8s\n",
            "[CV] END classifier__max_depth=10, classifier__min_samples_split=2, classifier__n_estimators=100; total time=   0.8s\n",
            "[CV] END classifier__max_depth=10, classifier__min_samples_split=2, classifier__n_estimators=100; total time=   0.8s\n",
            "[CV] END classifier__max_depth=10, classifier__min_samples_split=2, classifier__n_estimators=100; total time=   0.8s\n",
            "[CV] END classifier__max_depth=10, classifier__min_samples_split=2, classifier__n_estimators=100; total time=   0.8s\n",
            "[CV] END classifier__max_depth=10, classifier__min_samples_split=5, classifier__n_estimators=50; total time=   0.4s\n",
            "[CV] END classifier__max_depth=10, classifier__min_samples_split=5, classifier__n_estimators=50; total time=   0.4s\n",
            "[CV] END classifier__max_depth=10, classifier__min_samples_split=5, classifier__n_estimators=50; total time=   0.4s\n",
            "[CV] END classifier__max_depth=10, classifier__min_samples_split=5, classifier__n_estimators=50; total time=   0.4s\n",
            "[CV] END classifier__max_depth=10, classifier__min_samples_split=5, classifier__n_estimators=50; total time=   0.4s\n",
            "[CV] END classifier__max_depth=10, classifier__min_samples_split=5, classifier__n_estimators=100; total time=   0.8s\n",
            "[CV] END classifier__max_depth=10, classifier__min_samples_split=5, classifier__n_estimators=100; total time=   0.8s\n",
            "[CV] END classifier__max_depth=10, classifier__min_samples_split=5, classifier__n_estimators=100; total time=   0.8s\n",
            "[CV] END classifier__max_depth=10, classifier__min_samples_split=5, classifier__n_estimators=100; total time=   0.9s\n",
            "[CV] END classifier__max_depth=10, classifier__min_samples_split=5, classifier__n_estimators=100; total time=   1.1s\n",
            "[CV] END classifier__max_depth=20, classifier__min_samples_split=2, classifier__n_estimators=50; total time=   0.9s\n",
            "[CV] END classifier__max_depth=20, classifier__min_samples_split=2, classifier__n_estimators=50; total time=   0.6s\n",
            "[CV] END classifier__max_depth=20, classifier__min_samples_split=2, classifier__n_estimators=50; total time=   0.5s\n",
            "[CV] END classifier__max_depth=20, classifier__min_samples_split=2, classifier__n_estimators=50; total time=   0.5s\n",
            "[CV] END classifier__max_depth=20, classifier__min_samples_split=2, classifier__n_estimators=50; total time=   0.5s\n",
            "[CV] END classifier__max_depth=20, classifier__min_samples_split=2, classifier__n_estimators=100; total time=   1.1s\n",
            "[CV] END classifier__max_depth=20, classifier__min_samples_split=2, classifier__n_estimators=100; total time=   1.0s\n",
            "[CV] END classifier__max_depth=20, classifier__min_samples_split=2, classifier__n_estimators=100; total time=   1.0s\n",
            "[CV] END classifier__max_depth=20, classifier__min_samples_split=2, classifier__n_estimators=100; total time=   1.0s\n",
            "[CV] END classifier__max_depth=20, classifier__min_samples_split=2, classifier__n_estimators=100; total time=   1.0s\n",
            "[CV] END classifier__max_depth=20, classifier__min_samples_split=5, classifier__n_estimators=50; total time=   0.5s\n",
            "[CV] END classifier__max_depth=20, classifier__min_samples_split=5, classifier__n_estimators=50; total time=   0.5s\n",
            "[CV] END classifier__max_depth=20, classifier__min_samples_split=5, classifier__n_estimators=50; total time=   0.5s\n",
            "[CV] END classifier__max_depth=20, classifier__min_samples_split=5, classifier__n_estimators=50; total time=   0.5s\n",
            "[CV] END classifier__max_depth=20, classifier__min_samples_split=5, classifier__n_estimators=50; total time=   0.5s\n",
            "[CV] END classifier__max_depth=20, classifier__min_samples_split=5, classifier__n_estimators=100; total time=   1.5s\n",
            "[CV] END classifier__max_depth=20, classifier__min_samples_split=5, classifier__n_estimators=100; total time=   1.4s\n",
            "[CV] END classifier__max_depth=20, classifier__min_samples_split=5, classifier__n_estimators=100; total time=   1.0s\n",
            "[CV] END classifier__max_depth=20, classifier__min_samples_split=5, classifier__n_estimators=100; total time=   1.0s\n",
            "[CV] END classifier__max_depth=20, classifier__min_samples_split=5, classifier__n_estimators=100; total time=   1.0s\n",
            "\n",
            "Random Forest Best Params: {'classifier__max_depth': 20, 'classifier__min_samples_split': 2, 'classifier__n_estimators': 100}\n",
            "Random Forest Test Accuracy: 0.8445767195767195\n",
            "\n",
            "Random Forest Classification Report:\n",
            "              precision    recall  f1-score   support\n",
            "\n",
            "          No       0.86      0.95      0.90      1154\n",
            "         Yes       0.75      0.51      0.61       358\n",
            "\n",
            "    accuracy                           0.84      1512\n",
            "   macro avg       0.81      0.73      0.76      1512\n",
            "weighted avg       0.84      0.84      0.83      1512\n",
            "\n"
          ]
        },
        {
          "data": {
            "image/png": "[encoded data removed]",
            "text/plain": [
              "<Figure size 640x480 with 2 Axes>"
            ]
          },
          "metadata": {},
          "output_type": "display_data"
        }
      ],
      "source": [
        "\n",
        "rf_pipeline = Pipeline(steps=[\n",
        "    ('preprocessor', preprocessor),\n",
        "    ('classifier', RandomForestClassifier(random_state=42))\n",
        "])\n",
        "\n",
        "rf_params = {\n",
        "    'classifier__n_estimators': [50, 100],\n",
        "    'classifier__max_depth': [None, 10, 20],\n",
        "    'classifier__min_samples_split': [2, 5]\n",
        "}\n",
        "\n",
        "rf_grid = GridSearchCV(rf_pipeline, rf_params, cv=cv, scoring='accuracy', verbose=2)\n",
        "rf_grid.fit(X_train, y_train)\n",
        "\n",
        "print(\"\\nRandom Forest Best Params:\", rf_grid.best_params_)\n",
        "print(\"Random Forest Test Accuracy:\", rf_grid.score(X_test, y_test))\n",
        "y_pred_rf = rf_grid.predict(X_test)\n",
        "\n",
        "print(\"\\nRandom Forest Classification Report:\")\n",
        "print(classification_report(y_test, y_pred_rf))\n",
        "\n",
        "ConfusionMatrixDisplay.from_predictions(y_test, y_pred_rf, cmap='Blues')\n",
        "plt.title(\"Random Forest Confusion Matrix\")\n",
        "plt.show()"
      ]
    },
    {
      "cell_type": "markdown",
      "metadata": {},
      "source": [
        "## Step 6: Logistic Regression"
      ]
    },
    {
      "cell_type": "code",
      "execution_count": null,
      "metadata": {
        "colab": {
          "base_uri": "https://localhost:8080/",
          "height": 1000
        },
        "id": "RwOZoabsNlbg",
        "outputId": "d0b20a53-e633-454d-fdfd-6cd15bef0b6a"
      },
      "outputs": [
        {
          "name": "stdout",
          "output_type": "stream",
          "text": [
            "Fitting 5 folds for each of 4 candidates, totalling 20 fits\n",
            "[CV] END classifier__class_weight=None, classifier__penalty=l1, classifier__solver=liblinear; total time=   0.1s\n",
            "[CV] END classifier__class_weight=None, classifier__penalty=l1, classifier__solver=liblinear; total time=   0.2s\n",
            "[CV] END classifier__class_weight=None, classifier__penalty=l1, classifier__solver=liblinear; total time=   0.2s\n",
            "[CV] END classifier__class_weight=None, classifier__penalty=l1, classifier__solver=liblinear; total time=   0.2s\n",
            "[CV] END classifier__class_weight=None, classifier__penalty=l1, classifier__solver=liblinear; total time=   0.1s\n",
            "[CV] END classifier__class_weight=None, classifier__penalty=l2, classifier__solver=liblinear; total time=   0.1s\n",
            "[CV] END classifier__class_weight=None, classifier__penalty=l2, classifier__solver=liblinear; total time=   0.1s\n",
            "[CV] END classifier__class_weight=None, classifier__penalty=l2, classifier__solver=liblinear; total time=   0.1s\n",
            "[CV] END classifier__class_weight=None, classifier__penalty=l2, classifier__solver=liblinear; total time=   0.1s\n",
            "[CV] END classifier__class_weight=None, classifier__penalty=l2, classifier__solver=liblinear; total time=   0.1s\n",
            "[CV] END classifier__class_weight=balanced, classifier__penalty=l1, classifier__solver=liblinear; total time=   0.1s\n",
            "[CV] END classifier__class_weight=balanced, classifier__penalty=l1, classifier__solver=liblinear; total time=   0.1s\n",
            "[CV] END classifier__class_weight=balanced, classifier__penalty=l1, classifier__solver=liblinear; total time=   0.1s\n",
            "[CV] END classifier__class_weight=balanced, classifier__penalty=l1, classifier__solver=liblinear; total time=   0.1s\n",
            "[CV] END classifier__class_weight=balanced, classifier__penalty=l1, classifier__solver=liblinear; total time=   0.1s\n",
            "[CV] END classifier__class_weight=balanced, classifier__penalty=l2, classifier__solver=liblinear; total time=   0.1s\n",
            "[CV] END classifier__class_weight=balanced, classifier__penalty=l2, classifier__solver=liblinear; total time=   0.1s\n",
            "[CV] END classifier__class_weight=balanced, classifier__penalty=l2, classifier__solver=liblinear; total time=   0.1s\n",
            "[CV] END classifier__class_weight=balanced, classifier__penalty=l2, classifier__solver=liblinear; total time=   0.1s\n",
            "[CV] END classifier__class_weight=balanced, classifier__penalty=l2, classifier__solver=liblinear; total time=   0.1s\n",
            "\n",
            "Logistic Regression Best Params: {'classifier__class_weight': None, 'classifier__penalty': 'l2', 'classifier__solver': 'liblinear'}\n",
            "Logistic Regression Test Accuracy: 0.830026455026455\n",
            "\n",
            "Logistic Regression Classification Report:\n",
            "              precision    recall  f1-score   support\n",
            "\n",
            "          No       0.86      0.93      0.89      1154\n",
            "         Yes       0.69      0.51      0.59       358\n",
            "\n",
            "    accuracy                           0.83      1512\n",
            "   macro avg       0.77      0.72      0.74      1512\n",
            "weighted avg       0.82      0.83      0.82      1512\n",
            "\n"
          ]
        },
        {
          "data": {
            "image/png": "[encoded data removed]",
            "text/plain": [
              "<Figure size 640x480 with 2 Axes>"
            ]
          },
          "metadata": {},
          "output_type": "display_data"
        }
      ],
      "source": [
        "\n",
        "\n",
        "lr_pipeline = Pipeline(steps=[\n",
        "    ('preprocessor', preprocessor),\n",
        "    ('classifier', LogisticRegression(random_state=42, max_iter=500))\n",
        "])\n",
        "\n",
        "lr_params = {\n",
        "    'classifier__solver': ['liblinear'],\n",
        "    'classifier__penalty': ['l1', 'l2'],\n",
        "    'classifier__class_weight': [None, 'balanced']\n",
        "}\n",
        "\n",
        "lr_grid = GridSearchCV(lr_pipeline, lr_params, cv=cv, scoring='accuracy', verbose=2)\n",
        "lr_grid.fit(X_train, y_train)\n",
        "\n",
        "print(\"\\nLogistic Regression Best Params:\", lr_grid.best_params_)\n",
        "print(\"Logistic Regression Test Accuracy:\", lr_grid.score(X_test, y_test))\n",
        "y_pred_lr = lr_grid.predict(X_test)\n",
        "\n",
        "print(\"\\nLogistic Regression Classification Report:\")\n",
        "print(classification_report(y_test, y_pred_lr))\n",
        "\n",
        "ConfusionMatrixDisplay.from_predictions(y_test, y_pred_lr, cmap='Greens')\n",
        "plt.title(\"Logistic Regression Confusion Matrix\")\n",
        "plt.show()"
      ]
    },
    {
      "cell_type": "markdown",
      "metadata": {},
      "source": [
        "## Step 7: SVM"
      ]
    },
    {
      "cell_type": "code",
      "execution_count": null,
      "metadata": {
        "colab": {
          "base_uri": "https://localhost:8080/",
          "height": 1000
        },
        "id": "TLlXl0LiN3ex",
        "outputId": "ea8383f4-2bf7-4266-af87-13a696007e1e"
      },
      "outputs": [
        {
          "name": "stdout",
          "output_type": "stream",
          "text": [
            "Fitting 5 folds for each of 6 candidates, totalling 30 fits\n",
            "[CV] END .......classifier__C=0.1, classifier__kernel=linear; total time=   3.8s\n",
            "[CV] END .......classifier__C=0.1, classifier__kernel=linear; total time=   4.0s\n",
            "[CV] END .......classifier__C=0.1, classifier__kernel=linear; total time=   3.4s\n",
            "[CV] END .......classifier__C=0.1, classifier__kernel=linear; total time=   3.4s\n",
            "[CV] END .......classifier__C=0.1, classifier__kernel=linear; total time=   4.3s\n",
            "[CV] END ..........classifier__C=0.1, classifier__kernel=rbf; total time=   5.1s\n",
            "[CV] END ..........classifier__C=0.1, classifier__kernel=rbf; total time=   5.9s\n",
            "[CV] END ..........classifier__C=0.1, classifier__kernel=rbf; total time=   5.3s\n",
            "[CV] END ..........classifier__C=0.1, classifier__kernel=rbf; total time=   5.3s\n",
            "[CV] END ..........classifier__C=0.1, classifier__kernel=rbf; total time=   5.9s\n",
            "[CV] END .........classifier__C=1, classifier__kernel=linear; total time=   6.0s\n",
            "[CV] END .........classifier__C=1, classifier__kernel=linear; total time=   6.9s\n",
            "[CV] END .........classifier__C=1, classifier__kernel=linear; total time=   6.2s\n",
            "[CV] END .........classifier__C=1, classifier__kernel=linear; total time=   6.8s\n",
            "[CV] END .........classifier__C=1, classifier__kernel=linear; total time=   6.2s\n",
            "[CV] END ............classifier__C=1, classifier__kernel=rbf; total time=   5.4s\n",
            "[CV] END ............classifier__C=1, classifier__kernel=rbf; total time=   4.8s\n",
            "[CV] END ............classifier__C=1, classifier__kernel=rbf; total time=   5.7s\n",
            "[CV] END ............classifier__C=1, classifier__kernel=rbf; total time=   4.9s\n",
            "[CV] END ............classifier__C=1, classifier__kernel=rbf; total time=   5.7s\n",
            "[CV] END ........classifier__C=10, classifier__kernel=linear; total time=  26.2s\n",
            "[CV] END ........classifier__C=10, classifier__kernel=linear; total time=  25.9s\n",
            "[CV] END ........classifier__C=10, classifier__kernel=linear; total time=  27.5s\n",
            "[CV] END ........classifier__C=10, classifier__kernel=linear; total time=  25.1s\n",
            "[CV] END ........classifier__C=10, classifier__kernel=linear; total time=  26.5s\n",
            "[CV] END ...........classifier__C=10, classifier__kernel=rbf; total time=   7.2s\n",
            "[CV] END ...........classifier__C=10, classifier__kernel=rbf; total time=   6.3s\n",
            "[CV] END ...........classifier__C=10, classifier__kernel=rbf; total time=   7.2s\n",
            "[CV] END ...........classifier__C=10, classifier__kernel=rbf; total time=   6.4s\n",
            "[CV] END ...........classifier__C=10, classifier__kernel=rbf; total time=   7.2s\n",
            "\n",
            "SVM Best Params: {'classifier__C': 1, 'classifier__kernel': 'rbf'}\n",
            "SVM Test Accuracy: 0.8353174603174603\n",
            "\n",
            "SVM Classification Report:\n",
            "              precision    recall  f1-score   support\n",
            "\n",
            "          No       0.85      0.95      0.90      1154\n",
            "         Yes       0.73      0.48      0.58       358\n",
            "\n",
            "    accuracy                           0.84      1512\n",
            "   macro avg       0.79      0.71      0.74      1512\n",
            "weighted avg       0.83      0.84      0.82      1512\n",
            "\n"
          ]
        },
        {
          "data": {
            "image/png": "[encoded data removed]",
            "text/plain": [
              "<Figure size 640x480 with 2 Axes>"
            ]
          },
          "metadata": {},
          "output_type": "display_data"
        }
      ],
      "source": [
        "\n",
        "svm_pipeline = Pipeline(steps=[\n",
        "    ('preprocessor', preprocessor),\n",
        "    ('classifier', SVC(probability=True, random_state=42))\n",
        "])\n",
        "\n",
        "svm_params = {\n",
        "    'classifier__C': [0.1, 1, 10],\n",
        "    'classifier__kernel': ['linear', 'rbf']\n",
        "}\n",
        "\n",
        "svm_grid = GridSearchCV(svm_pipeline, svm_params, cv=cv, scoring='accuracy', verbose=2)\n",
        "svm_grid.fit(X_train, y_train)\n",
        "\n",
        "print(\"\\nSVM Best Params:\", svm_grid.best_params_)\n",
        "print(\"SVM Test Accuracy:\", svm_grid.score(X_test, y_test))\n",
        "y_pred_svm = svm_grid.predict(X_test)\n",
        "\n",
        "print(\"\\nSVM Classification Report:\")\n",
        "print(classification_report(y_test, y_pred_svm))\n",
        "\n",
        "ConfusionMatrixDisplay.from_predictions(y_test, y_pred_svm, cmap='Oranges')\n",
        "plt.title(\"SVM Confusion Matrix\")\n",
        "plt.show()"
      ]
    },
    {
      "cell_type": "markdown",
      "metadata": {},
      "source": [
        "## Step 8: KNN"
      ]
    },
    {
      "cell_type": "code",
      "execution_count": null,
      "metadata": {
        "colab": {
          "base_uri": "https://localhost:8080/",
          "height": 1000
        },
        "id": "TfSwQX9JOBE2",
        "outputId": "7367e8ba-1ab8-4fc8-f1ec-08a016324c3b"
      },
      "outputs": [
        {
          "name": "stdout",
          "output_type": "stream",
          "text": [
            "Fitting 5 folds for each of 6 candidates, totalling 30 fits\n",
            "[CV] END classifier__n_neighbors=3, classifier__weights=uniform; total time=   0.1s\n",
            "[CV] END classifier__n_neighbors=3, classifier__weights=uniform; total time=   0.1s\n",
            "[CV] END classifier__n_neighbors=3, classifier__weights=uniform; total time=   0.1s\n",
            "[CV] END classifier__n_neighbors=3, classifier__weights=uniform; total time=   0.1s\n",
            "[CV] END classifier__n_neighbors=3, classifier__weights=uniform; total time=   0.1s\n",
            "[CV] END classifier__n_neighbors=3, classifier__weights=distance; total time=   0.1s\n",
            "[CV] END classifier__n_neighbors=3, classifier__weights=distance; total time=   0.1s\n",
            "[CV] END classifier__n_neighbors=3, classifier__weights=distance; total time=   0.1s\n",
            "[CV] END classifier__n_neighbors=3, classifier__weights=distance; total time=   0.1s\n",
            "[CV] END classifier__n_neighbors=3, classifier__weights=distance; total time=   0.1s\n",
            "[CV] END classifier__n_neighbors=5, classifier__weights=uniform; total time=   0.1s\n",
            "[CV] END classifier__n_neighbors=5, classifier__weights=uniform; total time=   0.1s\n",
            "[CV] END classifier__n_neighbors=5, classifier__weights=uniform; total time=   0.1s\n",
            "[CV] END classifier__n_neighbors=5, classifier__weights=uniform; total time=   0.1s\n",
            "[CV] END classifier__n_neighbors=5, classifier__weights=uniform; total time=   0.1s\n",
            "[CV] END classifier__n_neighbors=5, classifier__weights=distance; total time=   0.1s\n",
            "[CV] END classifier__n_neighbors=5, classifier__weights=distance; total time=   0.1s\n",
            "[CV] END classifier__n_neighbors=5, classifier__weights=distance; total time=   0.1s\n",
            "[CV] END classifier__n_neighbors=5, classifier__weights=distance; total time=   0.1s\n",
            "[CV] END classifier__n_neighbors=5, classifier__weights=distance; total time=   0.1s\n",
            "[CV] END classifier__n_neighbors=7, classifier__weights=uniform; total time=   0.1s\n",
            "[CV] END classifier__n_neighbors=7, classifier__weights=uniform; total time=   0.1s\n",
            "[CV] END classifier__n_neighbors=7, classifier__weights=uniform; total time=   0.1s\n",
            "[CV] END classifier__n_neighbors=7, classifier__weights=uniform; total time=   0.1s\n",
            "[CV] END classifier__n_neighbors=7, classifier__weights=uniform; total time=   0.1s\n",
            "[CV] END classifier__n_neighbors=7, classifier__weights=distance; total time=   0.1s\n",
            "[CV] END classifier__n_neighbors=7, classifier__weights=distance; total time=   0.1s\n",
            "[CV] END classifier__n_neighbors=7, classifier__weights=distance; total time=   0.1s\n",
            "[CV] END classifier__n_neighbors=7, classifier__weights=distance; total time=   0.1s\n",
            "[CV] END classifier__n_neighbors=7, classifier__weights=distance; total time=   0.1s\n",
            "\n",
            "KNN Best Params: {'classifier__n_neighbors': 7, 'classifier__weights': 'distance'}\n",
            "KNN Test Accuracy: 0.8141534391534392\n",
            "\n",
            "KNN Classification Report:\n",
            "              precision    recall  f1-score   support\n",
            "\n",
            "          No       0.84      0.94      0.88      1154\n",
            "         Yes       0.67      0.42      0.52       358\n",
            "\n",
            "    accuracy                           0.81      1512\n",
            "   macro avg       0.75      0.68      0.70      1512\n",
            "weighted avg       0.80      0.81      0.80      1512\n",
            "\n"
          ]
        },
        {
          "data": {
            "image/png": "[encoded data removed]",
            "text/plain": [
              "<Figure size 640x480 with 2 Axes>"
            ]
          },
          "metadata": {},
          "output_type": "display_data"
        }
      ],
      "source": [
        "\n",
        "knn_pipeline = Pipeline(steps=[\n",
        "    ('preprocessor', preprocessor),\n",
        "    ('classifier', KNeighborsClassifier())\n",
        "])\n",
        "\n",
        "knn_params = {\n",
        "    'classifier__n_neighbors': [3, 5, 7],\n",
        "    'classifier__weights': ['uniform', 'distance']\n",
        "}\n",
        "\n",
        "knn_grid = GridSearchCV(knn_pipeline, knn_params, cv=cv, scoring='accuracy', verbose=2)\n",
        "knn_grid.fit(X_train, y_train)\n",
        "\n",
        "print(\"\\nKNN Best Params:\", knn_grid.best_params_)\n",
        "print(\"KNN Test Accuracy:\", knn_grid.score(X_test, y_test))\n",
        "y_pred_knn = knn_grid.predict(X_test)\n",
        "\n",
        "print(\"\\nKNN Classification Report:\")\n",
        "print(classification_report(y_test, y_pred_knn))\n",
        "\n",
        "ConfusionMatrixDisplay.from_predictions(y_test, y_pred_knn, cmap='Purples')\n",
        "plt.title(\"KNN Confusion Matrix\")\n",
        "plt.show()"
      ]
    },
    {
      "cell_type": "markdown",
      "metadata": {},
      "source": [
        "## Step 9: Gradient Boosting"
      ]
    },
    {
      "cell_type": "code",
      "execution_count": null,
      "metadata": {
        "colab": {
          "base_uri": "https://localhost:8080/",
          "height": 1000
        },
        "id": "5Sym_5fjPKK9",
        "outputId": "fa3059f0-1fa3-45ed-c8a5-d3112d2c2205"
      },
      "outputs": [
        {
          "name": "stdout",
          "output_type": "stream",
          "text": [
            "Fitting 5 folds for each of 8 candidates, totalling 40 fits\n",
            "[CV] END classifier__learning_rate=0.05, classifier__max_depth=3, classifier__n_estimators=100; total time=   1.9s\n",
            "[CV] END classifier__learning_rate=0.05, classifier__max_depth=3, classifier__n_estimators=100; total time=   1.9s\n",
            "[CV] END classifier__learning_rate=0.05, classifier__max_depth=3, classifier__n_estimators=100; total time=   1.9s\n",
            "[CV] END classifier__learning_rate=0.05, classifier__max_depth=3, classifier__n_estimators=100; total time=   2.3s\n",
            "[CV] END classifier__learning_rate=0.05, classifier__max_depth=3, classifier__n_estimators=100; total time=   2.3s\n",
            "[CV] END classifier__learning_rate=0.05, classifier__max_depth=3, classifier__n_estimators=200; total time=   3.7s\n",
            "[CV] END classifier__learning_rate=0.05, classifier__max_depth=3, classifier__n_estimators=200; total time=   3.7s\n",
            "[CV] END classifier__learning_rate=0.05, classifier__max_depth=3, classifier__n_estimators=200; total time=   4.5s\n",
            "[CV] END classifier__learning_rate=0.05, classifier__max_depth=3, classifier__n_estimators=200; total time=   3.8s\n",
            "[CV] END classifier__learning_rate=0.05, classifier__max_depth=3, classifier__n_estimators=200; total time=   3.8s\n",
            "[CV] END classifier__learning_rate=0.05, classifier__max_depth=5, classifier__n_estimators=100; total time=   3.8s\n",
            "[CV] END classifier__learning_rate=0.05, classifier__max_depth=5, classifier__n_estimators=100; total time=   3.4s\n",
            "[CV] END classifier__learning_rate=0.05, classifier__max_depth=5, classifier__n_estimators=100; total time=   3.2s\n",
            "[CV] END classifier__learning_rate=0.05, classifier__max_depth=5, classifier__n_estimators=100; total time=   3.2s\n",
            "[CV] END classifier__learning_rate=0.05, classifier__max_depth=5, classifier__n_estimators=100; total time=   4.0s\n",
            "[CV] END classifier__learning_rate=0.05, classifier__max_depth=5, classifier__n_estimators=200; total time=   6.3s\n",
            "[CV] END classifier__learning_rate=0.05, classifier__max_depth=5, classifier__n_estimators=200; total time=   7.2s\n",
            "[CV] END classifier__learning_rate=0.05, classifier__max_depth=5, classifier__n_estimators=200; total time=   6.3s\n",
            "[CV] END classifier__learning_rate=0.05, classifier__max_depth=5, classifier__n_estimators=200; total time=   7.1s\n",
            "[CV] END classifier__learning_rate=0.05, classifier__max_depth=5, classifier__n_estimators=200; total time=   6.4s\n",
            "[CV] END classifier__learning_rate=0.1, classifier__max_depth=3, classifier__n_estimators=100; total time=   2.3s\n",
            "[CV] END classifier__learning_rate=0.1, classifier__max_depth=3, classifier__n_estimators=100; total time=   2.4s\n",
            "[CV] END classifier__learning_rate=0.1, classifier__max_depth=3, classifier__n_estimators=100; total time=   1.9s\n",
            "[CV] END classifier__learning_rate=0.1, classifier__max_depth=3, classifier__n_estimators=100; total time=   1.9s\n",
            "[CV] END classifier__learning_rate=0.1, classifier__max_depth=3, classifier__n_estimators=100; total time=   1.9s\n",
            "[CV] END classifier__learning_rate=0.1, classifier__max_depth=3, classifier__n_estimators=200; total time=   4.0s\n",
            "[CV] END classifier__learning_rate=0.1, classifier__max_depth=3, classifier__n_estimators=200; total time=   4.3s\n",
            "[CV] END classifier__learning_rate=0.1, classifier__max_depth=3, classifier__n_estimators=200; total time=   3.7s\n",
            "[CV] END classifier__learning_rate=0.1, classifier__max_depth=3, classifier__n_estimators=200; total time=   3.7s\n",
            "[CV] END classifier__learning_rate=0.1, classifier__max_depth=3, classifier__n_estimators=200; total time=   4.6s\n",
            "[CV] END classifier__learning_rate=0.1, classifier__max_depth=5, classifier__n_estimators=100; total time=   3.2s\n",
            "[CV] END classifier__learning_rate=0.1, classifier__max_depth=5, classifier__n_estimators=100; total time=   3.2s\n",
            "[CV] END classifier__learning_rate=0.1, classifier__max_depth=5, classifier__n_estimators=100; total time=   3.8s\n",
            "[CV] END classifier__learning_rate=0.1, classifier__max_depth=5, classifier__n_estimators=100; total time=   3.3s\n",
            "[CV] END classifier__learning_rate=0.1, classifier__max_depth=5, classifier__n_estimators=100; total time=   3.2s\n",
            "[CV] END classifier__learning_rate=0.1, classifier__max_depth=5, classifier__n_estimators=200; total time=   7.0s\n",
            "[CV] END classifier__learning_rate=0.1, classifier__max_depth=5, classifier__n_estimators=200; total time=   6.3s\n",
            "[CV] END classifier__learning_rate=0.1, classifier__max_depth=5, classifier__n_estimators=200; total time=   7.1s\n",
            "[CV] END classifier__learning_rate=0.1, classifier__max_depth=5, classifier__n_estimators=200; total time=   6.3s\n",
            "[CV] END classifier__learning_rate=0.1, classifier__max_depth=5, classifier__n_estimators=200; total time=   7.2s\n",
            "\n",
            "Gradient Boosting Best Params: {'classifier__learning_rate': 0.1, 'classifier__max_depth': 5, 'classifier__n_estimators': 200}\n",
            "Gradient Boosting Test Accuracy: 0.8472222222222222\n",
            "\n",
            "Gradient Boosting Classification Report:\n",
            "              precision    recall  f1-score   support\n",
            "\n",
            "          No       0.87      0.93      0.90      1154\n",
            "         Yes       0.73      0.57      0.64       358\n",
            "\n",
            "    accuracy                           0.85      1512\n",
            "   macro avg       0.80      0.75      0.77      1512\n",
            "weighted avg       0.84      0.85      0.84      1512\n",
            "\n"
          ]
        },
        {
          "data": {
            "image/png": "[encoded data removed]",
            "text/plain": [
              "<Figure size 640x480 with 2 Axes>"
            ]
          },
          "metadata": {},
          "output_type": "display_data"
        }
      ],
      "source": [
        "\n",
        "gb_pipeline = Pipeline(steps=[\n",
        "    ('preprocessor', preprocessor),\n",
        "    ('classifier', GradientBoostingClassifier(random_state=42))\n",
        "])\n",
        "\n",
        "gb_params = {\n",
        "    'classifier__n_estimators': [100, 200],\n",
        "    'classifier__learning_rate': [0.05, 0.1],\n",
        "    'classifier__max_depth': [3, 5]\n",
        "}\n",
        "\n",
        "gb_grid = GridSearchCV(gb_pipeline, gb_params, cv=cv, scoring='accuracy', verbose=2)\n",
        "gb_grid.fit(X_train, y_train)\n",
        "\n",
        "print(\"\\nGradient Boosting Best Params:\", gb_grid.best_params_)\n",
        "print(\"Gradient Boosting Test Accuracy:\", gb_grid.score(X_test, y_test))\n",
        "y_pred_gb = gb_grid.predict(X_test)\n",
        "\n",
        "print(\"\\nGradient Boosting Classification Report:\")\n",
        "print(classification_report(y_test, y_pred_gb))\n",
        "\n",
        "ConfusionMatrixDisplay.from_predictions(y_test, y_pred_gb, cmap='Reds')\n",
        "plt.title(\"Gradient Boosting Confusion Matrix\")\n",
        "plt.show()\n"
      ]
    },
    {
      "cell_type": "markdown",
      "metadata": {},
      "source": [
        "## Step 10: XGBoost"
      ]
    },
    {
      "cell_type": "code",
      "execution_count": null,
      "metadata": {
        "colab": {
          "base_uri": "https://localhost:8080/",
          "height": 1000
        },
        "id": "QIU2OqFAPStf",
        "outputId": "ac523b91-0984-40f0-e6ae-60250f64596f"
      },
      "outputs": [
        {
          "name": "stdout",
          "output_type": "stream",
          "text": [
            "Fitting 5 folds for each of 8 candidates, totalling 40 fits\n"
          ]
        },
        {
          "name": "stderr",
          "output_type": "stream",
          "text": [
            "/usr/local/lib/python3.12/dist-packages/xgboost/training.py:183: UserWarning: [17:45:14] WARNING: /workspace/src/learner.cc:738: \n",
            "Parameters: { \"use_label_encoder\" } are not used.\n",
            "\n",
            "  bst.update(dtrain, iteration=i, fobj=obj)\n"
          ]
        },
        {
          "name": "stdout",
          "output_type": "stream",
          "text": [
            "[CV] END classifier__learning_rate=0.05, classifier__max_depth=3, classifier__n_estimators=100; total time=   0.4s\n"
          ]
        },
        {
          "name": "stderr",
          "output_type": "stream",
          "text": [
            "/usr/local/lib/python3.12/dist-packages/xgboost/training.py:183: UserWarning: [17:45:15] WARNING: /workspace/src/learner.cc:738: \n",
            "Parameters: { \"use_label_encoder\" } are not used.\n",
            "\n",
            "  bst.update(dtrain, iteration=i, fobj=obj)\n"
          ]
        },
        {
          "name": "stdout",
          "output_type": "stream",
          "text": [
            "[CV] END classifier__learning_rate=0.05, classifier__max_depth=3, classifier__n_estimators=100; total time=   0.8s\n"
          ]
        },
        {
          "name": "stderr",
          "output_type": "stream",
          "text": [
            "/usr/local/lib/python3.12/dist-packages/xgboost/training.py:183: UserWarning: [17:45:16] WARNING: /workspace/src/learner.cc:738: \n",
            "Parameters: { \"use_label_encoder\" } are not used.\n",
            "\n",
            "  bst.update(dtrain, iteration=i, fobj=obj)\n"
          ]
        },
        {
          "name": "stdout",
          "output_type": "stream",
          "text": [
            "[CV] END classifier__learning_rate=0.05, classifier__max_depth=3, classifier__n_estimators=100; total time=   0.6s\n"
          ]
        },
        {
          "name": "stderr",
          "output_type": "stream",
          "text": [
            "/usr/local/lib/python3.12/dist-packages/xgboost/training.py:183: UserWarning: [17:45:16] WARNING: /workspace/src/learner.cc:738: \n",
            "Parameters: { \"use_label_encoder\" } are not used.\n",
            "\n",
            "  bst.update(dtrain, iteration=i, fobj=obj)\n"
          ]
        },
        {
          "name": "stdout",
          "output_type": "stream",
          "text": [
            "[CV] END classifier__learning_rate=0.05, classifier__max_depth=3, classifier__n_estimators=100; total time=   0.5s\n"
          ]
        },
        {
          "name": "stderr",
          "output_type": "stream",
          "text": [
            "/usr/local/lib/python3.12/dist-packages/xgboost/training.py:183: UserWarning: [17:45:17] WARNING: /workspace/src/learner.cc:738: \n",
            "Parameters: { \"use_label_encoder\" } are not used.\n",
            "\n",
            "  bst.update(dtrain, iteration=i, fobj=obj)\n"
          ]
        },
        {
          "name": "stdout",
          "output_type": "stream",
          "text": [
            "[CV] END classifier__learning_rate=0.05, classifier__max_depth=3, classifier__n_estimators=100; total time=   0.3s\n"
          ]
        },
        {
          "name": "stderr",
          "output_type": "stream",
          "text": [
            "/usr/local/lib/python3.12/dist-packages/xgboost/training.py:183: UserWarning: [17:45:17] WARNING: /workspace/src/learner.cc:738: \n",
            "Parameters: { \"use_label_encoder\" } are not used.\n",
            "\n",
            "  bst.update(dtrain, iteration=i, fobj=obj)\n"
          ]
        },
        {
          "name": "stdout",
          "output_type": "stream",
          "text": [
            "[CV] END classifier__learning_rate=0.05, classifier__max_depth=3, classifier__n_estimators=200; total time=   0.3s\n"
          ]
        },
        {
          "name": "stderr",
          "output_type": "stream",
          "text": [
            "/usr/local/lib/python3.12/dist-packages/xgboost/training.py:183: UserWarning: [17:45:17] WARNING: /workspace/src/learner.cc:738: \n",
            "Parameters: { \"use_label_encoder\" } are not used.\n",
            "\n",
            "  bst.update(dtrain, iteration=i, fobj=obj)\n"
          ]
        },
        {
          "name": "stdout",
          "output_type": "stream",
          "text": [
            "[CV] END classifier__learning_rate=0.05, classifier__max_depth=3, classifier__n_estimators=200; total time=   0.3s\n"
          ]
        },
        {
          "name": "stderr",
          "output_type": "stream",
          "text": [
            "/usr/local/lib/python3.12/dist-packages/xgboost/training.py:183: UserWarning: [17:45:18] WARNING: /workspace/src/learner.cc:738: \n",
            "Parameters: { \"use_label_encoder\" } are not used.\n",
            "\n",
            "  bst.update(dtrain, iteration=i, fobj=obj)\n"
          ]
        },
        {
          "name": "stdout",
          "output_type": "stream",
          "text": [
            "[CV] END classifier__learning_rate=0.05, classifier__max_depth=3, classifier__n_estimators=200; total time=   0.3s\n"
          ]
        },
        {
          "name": "stderr",
          "output_type": "stream",
          "text": [
            "/usr/local/lib/python3.12/dist-packages/xgboost/training.py:183: UserWarning: [17:45:18] WARNING: /workspace/src/learner.cc:738: \n",
            "Parameters: { \"use_label_encoder\" } are not used.\n",
            "\n",
            "  bst.update(dtrain, iteration=i, fobj=obj)\n"
          ]
        },
        {
          "name": "stdout",
          "output_type": "stream",
          "text": [
            "[CV] END classifier__learning_rate=0.05, classifier__max_depth=3, classifier__n_estimators=200; total time=   0.3s\n"
          ]
        },
        {
          "name": "stderr",
          "output_type": "stream",
          "text": [
            "/usr/local/lib/python3.12/dist-packages/xgboost/training.py:183: UserWarning: [17:45:18] WARNING: /workspace/src/learner.cc:738: \n",
            "Parameters: { \"use_label_encoder\" } are not used.\n",
            "\n",
            "  bst.update(dtrain, iteration=i, fobj=obj)\n"
          ]
        },
        {
          "name": "stdout",
          "output_type": "stream",
          "text": [
            "[CV] END classifier__learning_rate=0.05, classifier__max_depth=3, classifier__n_estimators=200; total time=   0.3s\n"
          ]
        },
        {
          "name": "stderr",
          "output_type": "stream",
          "text": [
            "/usr/local/lib/python3.12/dist-packages/xgboost/training.py:183: UserWarning: [17:45:18] WARNING: /workspace/src/learner.cc:738: \n",
            "Parameters: { \"use_label_encoder\" } are not used.\n",
            "\n",
            "  bst.update(dtrain, iteration=i, fobj=obj)\n"
          ]
        },
        {
          "name": "stdout",
          "output_type": "stream",
          "text": [
            "[CV] END classifier__learning_rate=0.05, classifier__max_depth=5, classifier__n_estimators=100; total time=   0.3s\n"
          ]
        },
        {
          "name": "stderr",
          "output_type": "stream",
          "text": [
            "/usr/local/lib/python3.12/dist-packages/xgboost/training.py:183: UserWarning: [17:45:19] WARNING: /workspace/src/learner.cc:738: \n",
            "Parameters: { \"use_label_encoder\" } are not used.\n",
            "\n",
            "  bst.update(dtrain, iteration=i, fobj=obj)\n"
          ]
        },
        {
          "name": "stdout",
          "output_type": "stream",
          "text": [
            "[CV] END classifier__learning_rate=0.05, classifier__max_depth=5, classifier__n_estimators=100; total time=   0.3s\n"
          ]
        },
        {
          "name": "stderr",
          "output_type": "stream",
          "text": [
            "/usr/local/lib/python3.12/dist-packages/xgboost/training.py:183: UserWarning: [17:45:19] WARNING: /workspace/src/learner.cc:738: \n",
            "Parameters: { \"use_label_encoder\" } are not used.\n",
            "\n",
            "  bst.update(dtrain, iteration=i, fobj=obj)\n"
          ]
        },
        {
          "name": "stdout",
          "output_type": "stream",
          "text": [
            "[CV] END classifier__learning_rate=0.05, classifier__max_depth=5, classifier__n_estimators=100; total time=   0.3s\n"
          ]
        },
        {
          "name": "stderr",
          "output_type": "stream",
          "text": [
            "/usr/local/lib/python3.12/dist-packages/xgboost/training.py:183: UserWarning: [17:45:19] WARNING: /workspace/src/learner.cc:738: \n",
            "Parameters: { \"use_label_encoder\" } are not used.\n",
            "\n",
            "  bst.update(dtrain, iteration=i, fobj=obj)\n"
          ]
        },
        {
          "name": "stdout",
          "output_type": "stream",
          "text": [
            "[CV] END classifier__learning_rate=0.05, classifier__max_depth=5, classifier__n_estimators=100; total time=   0.3s\n"
          ]
        },
        {
          "name": "stderr",
          "output_type": "stream",
          "text": [
            "/usr/local/lib/python3.12/dist-packages/xgboost/training.py:183: UserWarning: [17:45:20] WARNING: /workspace/src/learner.cc:738: \n",
            "Parameters: { \"use_label_encoder\" } are not used.\n",
            "\n",
            "  bst.update(dtrain, iteration=i, fobj=obj)\n"
          ]
        },
        {
          "name": "stdout",
          "output_type": "stream",
          "text": [
            "[CV] END classifier__learning_rate=0.05, classifier__max_depth=5, classifier__n_estimators=100; total time=   0.3s\n"
          ]
        },
        {
          "name": "stderr",
          "output_type": "stream",
          "text": [
            "/usr/local/lib/python3.12/dist-packages/xgboost/training.py:183: UserWarning: [17:45:20] WARNING: /workspace/src/learner.cc:738: \n",
            "Parameters: { \"use_label_encoder\" } are not used.\n",
            "\n",
            "  bst.update(dtrain, iteration=i, fobj=obj)\n"
          ]
        },
        {
          "name": "stdout",
          "output_type": "stream",
          "text": [
            "[CV] END classifier__learning_rate=0.05, classifier__max_depth=5, classifier__n_estimators=200; total time=   0.4s\n"
          ]
        },
        {
          "name": "stderr",
          "output_type": "stream",
          "text": [
            "/usr/local/lib/python3.12/dist-packages/xgboost/training.py:183: UserWarning: [17:45:20] WARNING: /workspace/src/learner.cc:738: \n",
            "Parameters: { \"use_label_encoder\" } are not used.\n",
            "\n",
            "  bst.update(dtrain, iteration=i, fobj=obj)\n"
          ]
        },
        {
          "name": "stdout",
          "output_type": "stream",
          "text": [
            "[CV] END classifier__learning_rate=0.05, classifier__max_depth=5, classifier__n_estimators=200; total time=   0.5s\n"
          ]
        },
        {
          "name": "stderr",
          "output_type": "stream",
          "text": [
            "/usr/local/lib/python3.12/dist-packages/xgboost/training.py:183: UserWarning: [17:45:21] WARNING: /workspace/src/learner.cc:738: \n",
            "Parameters: { \"use_label_encoder\" } are not used.\n",
            "\n",
            "  bst.update(dtrain, iteration=i, fobj=obj)\n"
          ]
        },
        {
          "name": "stdout",
          "output_type": "stream",
          "text": [
            "[CV] END classifier__learning_rate=0.05, classifier__max_depth=5, classifier__n_estimators=200; total time=   0.5s\n"
          ]
        },
        {
          "name": "stderr",
          "output_type": "stream",
          "text": [
            "/usr/local/lib/python3.12/dist-packages/xgboost/training.py:183: UserWarning: [17:45:21] WARNING: /workspace/src/learner.cc:738: \n",
            "Parameters: { \"use_label_encoder\" } are not used.\n",
            "\n",
            "  bst.update(dtrain, iteration=i, fobj=obj)\n"
          ]
        },
        {
          "name": "stdout",
          "output_type": "stream",
          "text": [
            "[CV] END classifier__learning_rate=0.05, classifier__max_depth=5, classifier__n_estimators=200; total time=   0.4s\n"
          ]
        },
        {
          "name": "stderr",
          "output_type": "stream",
          "text": [
            "/usr/local/lib/python3.12/dist-packages/xgboost/training.py:183: UserWarning: [17:45:22] WARNING: /workspace/src/learner.cc:738: \n",
            "Parameters: { \"use_label_encoder\" } are not used.\n",
            "\n",
            "  bst.update(dtrain, iteration=i, fobj=obj)\n"
          ]
        },
        {
          "name": "stdout",
          "output_type": "stream",
          "text": [
            "[CV] END classifier__learning_rate=0.05, classifier__max_depth=5, classifier__n_estimators=200; total time=   0.5s\n",
            "[CV] END classifier__learning_rate=0.1, classifier__max_depth=3, classifier__n_estimators=100; total time=   0.2s\n"
          ]
        },
        {
          "name": "stderr",
          "output_type": "stream",
          "text": [
            "/usr/local/lib/python3.12/dist-packages/xgboost/training.py:183: UserWarning: [17:45:22] WARNING: /workspace/src/learner.cc:738: \n",
            "Parameters: { \"use_label_encoder\" } are not used.\n",
            "\n",
            "  bst.update(dtrain, iteration=i, fobj=obj)\n",
            "/usr/local/lib/python3.12/dist-packages/xgboost/training.py:183: UserWarning: [17:45:22] WARNING: /workspace/src/learner.cc:738: \n",
            "Parameters: { \"use_label_encoder\" } are not used.\n",
            "\n",
            "  bst.update(dtrain, iteration=i, fobj=obj)\n"
          ]
        },
        {
          "name": "stdout",
          "output_type": "stream",
          "text": [
            "[CV] END classifier__learning_rate=0.1, classifier__max_depth=3, classifier__n_estimators=100; total time=   0.2s\n",
            "[CV] END classifier__learning_rate=0.1, classifier__max_depth=3, classifier__n_estimators=100; total time=   0.2s\n"
          ]
        },
        {
          "name": "stderr",
          "output_type": "stream",
          "text": [
            "/usr/local/lib/python3.12/dist-packages/xgboost/training.py:183: UserWarning: [17:45:23] WARNING: /workspace/src/learner.cc:738: \n",
            "Parameters: { \"use_label_encoder\" } are not used.\n",
            "\n",
            "  bst.update(dtrain, iteration=i, fobj=obj)\n",
            "/usr/local/lib/python3.12/dist-packages/xgboost/training.py:183: UserWarning: [17:45:23] WARNING: /workspace/src/learner.cc:738: \n",
            "Parameters: { \"use_label_encoder\" } are not used.\n",
            "\n",
            "  bst.update(dtrain, iteration=i, fobj=obj)\n"
          ]
        },
        {
          "name": "stdout",
          "output_type": "stream",
          "text": [
            "[CV] END classifier__learning_rate=0.1, classifier__max_depth=3, classifier__n_estimators=100; total time=   0.2s\n",
            "[CV] END classifier__learning_rate=0.1, classifier__max_depth=3, classifier__n_estimators=100; total time=   0.2s\n"
          ]
        },
        {
          "name": "stderr",
          "output_type": "stream",
          "text": [
            "/usr/local/lib/python3.12/dist-packages/xgboost/training.py:183: UserWarning: [17:45:23] WARNING: /workspace/src/learner.cc:738: \n",
            "Parameters: { \"use_label_encoder\" } are not used.\n",
            "\n",
            "  bst.update(dtrain, iteration=i, fobj=obj)\n",
            "/usr/local/lib/python3.12/dist-packages/xgboost/training.py:183: UserWarning: [17:45:23] WARNING: /workspace/src/learner.cc:738: \n",
            "Parameters: { \"use_label_encoder\" } are not used.\n",
            "\n",
            "  bst.update(dtrain, iteration=i, fobj=obj)\n"
          ]
        },
        {
          "name": "stdout",
          "output_type": "stream",
          "text": [
            "[CV] END classifier__learning_rate=0.1, classifier__max_depth=3, classifier__n_estimators=200; total time=   0.3s\n"
          ]
        },
        {
          "name": "stderr",
          "output_type": "stream",
          "text": [
            "/usr/local/lib/python3.12/dist-packages/xgboost/training.py:183: UserWarning: [17:45:23] WARNING: /workspace/src/learner.cc:738: \n",
            "Parameters: { \"use_label_encoder\" } are not used.\n",
            "\n",
            "  bst.update(dtrain, iteration=i, fobj=obj)\n"
          ]
        },
        {
          "name": "stdout",
          "output_type": "stream",
          "text": [
            "[CV] END classifier__learning_rate=0.1, classifier__max_depth=3, classifier__n_estimators=200; total time=   0.3s\n"
          ]
        },
        {
          "name": "stderr",
          "output_type": "stream",
          "text": [
            "/usr/local/lib/python3.12/dist-packages/xgboost/training.py:183: UserWarning: [17:45:24] WARNING: /workspace/src/learner.cc:738: \n",
            "Parameters: { \"use_label_encoder\" } are not used.\n",
            "\n",
            "  bst.update(dtrain, iteration=i, fobj=obj)\n"
          ]
        },
        {
          "name": "stdout",
          "output_type": "stream",
          "text": [
            "[CV] END classifier__learning_rate=0.1, classifier__max_depth=3, classifier__n_estimators=200; total time=   0.3s\n"
          ]
        },
        {
          "name": "stderr",
          "output_type": "stream",
          "text": [
            "/usr/local/lib/python3.12/dist-packages/xgboost/training.py:183: UserWarning: [17:45:24] WARNING: /workspace/src/learner.cc:738: \n",
            "Parameters: { \"use_label_encoder\" } are not used.\n",
            "\n",
            "  bst.update(dtrain, iteration=i, fobj=obj)\n"
          ]
        },
        {
          "name": "stdout",
          "output_type": "stream",
          "text": [
            "[CV] END classifier__learning_rate=0.1, classifier__max_depth=3, classifier__n_estimators=200; total time=   0.3s\n"
          ]
        },
        {
          "name": "stderr",
          "output_type": "stream",
          "text": [
            "/usr/local/lib/python3.12/dist-packages/xgboost/training.py:183: UserWarning: [17:45:24] WARNING: /workspace/src/learner.cc:738: \n",
            "Parameters: { \"use_label_encoder\" } are not used.\n",
            "\n",
            "  bst.update(dtrain, iteration=i, fobj=obj)\n"
          ]
        },
        {
          "name": "stdout",
          "output_type": "stream",
          "text": [
            "[CV] END classifier__learning_rate=0.1, classifier__max_depth=3, classifier__n_estimators=200; total time=   0.3s\n"
          ]
        },
        {
          "name": "stderr",
          "output_type": "stream",
          "text": [
            "/usr/local/lib/python3.12/dist-packages/xgboost/training.py:183: UserWarning: [17:45:24] WARNING: /workspace/src/learner.cc:738: \n",
            "Parameters: { \"use_label_encoder\" } are not used.\n",
            "\n",
            "  bst.update(dtrain, iteration=i, fobj=obj)\n"
          ]
        },
        {
          "name": "stdout",
          "output_type": "stream",
          "text": [
            "[CV] END classifier__learning_rate=0.1, classifier__max_depth=5, classifier__n_estimators=100; total time=   0.3s\n"
          ]
        },
        {
          "name": "stderr",
          "output_type": "stream",
          "text": [
            "/usr/local/lib/python3.12/dist-packages/xgboost/training.py:183: UserWarning: [17:45:25] WARNING: /workspace/src/learner.cc:738: \n",
            "Parameters: { \"use_label_encoder\" } are not used.\n",
            "\n",
            "  bst.update(dtrain, iteration=i, fobj=obj)\n"
          ]
        },
        {
          "name": "stdout",
          "output_type": "stream",
          "text": [
            "[CV] END classifier__learning_rate=0.1, classifier__max_depth=5, classifier__n_estimators=100; total time=   0.3s\n"
          ]
        },
        {
          "name": "stderr",
          "output_type": "stream",
          "text": [
            "/usr/local/lib/python3.12/dist-packages/xgboost/training.py:183: UserWarning: [17:45:25] WARNING: /workspace/src/learner.cc:738: \n",
            "Parameters: { \"use_label_encoder\" } are not used.\n",
            "\n",
            "  bst.update(dtrain, iteration=i, fobj=obj)\n"
          ]
        },
        {
          "name": "stdout",
          "output_type": "stream",
          "text": [
            "[CV] END classifier__learning_rate=0.1, classifier__max_depth=5, classifier__n_estimators=100; total time=   0.2s\n"
          ]
        },
        {
          "name": "stderr",
          "output_type": "stream",
          "text": [
            "/usr/local/lib/python3.12/dist-packages/xgboost/training.py:183: UserWarning: [17:45:25] WARNING: /workspace/src/learner.cc:738: \n",
            "Parameters: { \"use_label_encoder\" } are not used.\n",
            "\n",
            "  bst.update(dtrain, iteration=i, fobj=obj)\n"
          ]
        },
        {
          "name": "stdout",
          "output_type": "stream",
          "text": [
            "[CV] END classifier__learning_rate=0.1, classifier__max_depth=5, classifier__n_estimators=100; total time=   0.2s\n"
          ]
        },
        {
          "name": "stderr",
          "output_type": "stream",
          "text": [
            "/usr/local/lib/python3.12/dist-packages/xgboost/training.py:183: UserWarning: [17:45:25] WARNING: /workspace/src/learner.cc:738: \n",
            "Parameters: { \"use_label_encoder\" } are not used.\n",
            "\n",
            "  bst.update(dtrain, iteration=i, fobj=obj)\n"
          ]
        },
        {
          "name": "stdout",
          "output_type": "stream",
          "text": [
            "[CV] END classifier__learning_rate=0.1, classifier__max_depth=5, classifier__n_estimators=100; total time=   0.3s\n"
          ]
        },
        {
          "name": "stderr",
          "output_type": "stream",
          "text": [
            "/usr/local/lib/python3.12/dist-packages/xgboost/training.py:183: UserWarning: [17:45:26] WARNING: /workspace/src/learner.cc:738: \n",
            "Parameters: { \"use_label_encoder\" } are not used.\n",
            "\n",
            "  bst.update(dtrain, iteration=i, fobj=obj)\n"
          ]
        },
        {
          "name": "stdout",
          "output_type": "stream",
          "text": [
            "[CV] END classifier__learning_rate=0.1, classifier__max_depth=5, classifier__n_estimators=200; total time=   0.5s\n"
          ]
        },
        {
          "name": "stderr",
          "output_type": "stream",
          "text": [
            "/usr/local/lib/python3.12/dist-packages/xgboost/training.py:183: UserWarning: [17:45:26] WARNING: /workspace/src/learner.cc:738: \n",
            "Parameters: { \"use_label_encoder\" } are not used.\n",
            "\n",
            "  bst.update(dtrain, iteration=i, fobj=obj)\n"
          ]
        },
        {
          "name": "stdout",
          "output_type": "stream",
          "text": [
            "[CV] END classifier__learning_rate=0.1, classifier__max_depth=5, classifier__n_estimators=200; total time=   0.4s\n"
          ]
        },
        {
          "name": "stderr",
          "output_type": "stream",
          "text": [
            "/usr/local/lib/python3.12/dist-packages/xgboost/training.py:183: UserWarning: [17:45:27] WARNING: /workspace/src/learner.cc:738: \n",
            "Parameters: { \"use_label_encoder\" } are not used.\n",
            "\n",
            "  bst.update(dtrain, iteration=i, fobj=obj)\n"
          ]
        },
        {
          "name": "stdout",
          "output_type": "stream",
          "text": [
            "[CV] END classifier__learning_rate=0.1, classifier__max_depth=5, classifier__n_estimators=200; total time=   0.8s\n"
          ]
        },
        {
          "name": "stderr",
          "output_type": "stream",
          "text": [
            "/usr/local/lib/python3.12/dist-packages/xgboost/training.py:183: UserWarning: [17:45:27] WARNING: /workspace/src/learner.cc:738: \n",
            "Parameters: { \"use_label_encoder\" } are not used.\n",
            "\n",
            "  bst.update(dtrain, iteration=i, fobj=obj)\n"
          ]
        },
        {
          "name": "stdout",
          "output_type": "stream",
          "text": [
            "[CV] END classifier__learning_rate=0.1, classifier__max_depth=5, classifier__n_estimators=200; total time=   1.4s\n"
          ]
        },
        {
          "name": "stderr",
          "output_type": "stream",
          "text": [
            "/usr/local/lib/python3.12/dist-packages/xgboost/training.py:183: UserWarning: [17:45:29] WARNING: /workspace/src/learner.cc:738: \n",
            "Parameters: { \"use_label_encoder\" } are not used.\n",
            "\n",
            "  bst.update(dtrain, iteration=i, fobj=obj)\n"
          ]
        },
        {
          "name": "stdout",
          "output_type": "stream",
          "text": [
            "[CV] END classifier__learning_rate=0.1, classifier__max_depth=5, classifier__n_estimators=200; total time=   0.9s\n"
          ]
        },
        {
          "name": "stderr",
          "output_type": "stream",
          "text": [
            "/usr/local/lib/python3.12/dist-packages/xgboost/training.py:183: UserWarning: [17:45:30] WARNING: /workspace/src/learner.cc:738: \n",
            "Parameters: { \"use_label_encoder\" } are not used.\n",
            "\n",
            "  bst.update(dtrain, iteration=i, fobj=obj)\n"
          ]
        },
        {
          "name": "stdout",
          "output_type": "stream",
          "text": [
            "\n",
            "XGBoost Best Params: {'classifier__learning_rate': 0.1, 'classifier__max_depth': 5, 'classifier__n_estimators': 200}\n",
            "XGBoost Test Accuracy: 0.8478835978835979\n",
            "\n",
            "XGBoost Classification Report:\n",
            "              precision    recall  f1-score   support\n",
            "\n",
            "           0       0.87      0.94      0.90      1154\n",
            "           1       0.75      0.54      0.63       358\n",
            "\n",
            "    accuracy                           0.85      1512\n",
            "   macro avg       0.81      0.74      0.77      1512\n",
            "weighted avg       0.84      0.85      0.84      1512\n",
            "\n"
          ]
        },
        {
          "data": {
            "image/png": "[encoded data removed]",
            "text/plain": [
              "<Figure size 640x480 with 2 Axes>"
            ]
          },
          "metadata": {},
          "output_type": "display_data"
        }
      ],
      "source": [
        "# Step 11: XGBoost Classifier\n",
        "xgb_pipeline = Pipeline(steps=[\n",
        "    ('preprocessor', preprocessor),\n",
        "    ('classifier', XGBClassifier(use_label_encoder=False, eval_metric='logloss', random_state=42))\n",
        "])\n",
        "\n",
        "xgb_params = {\n",
        "    'classifier__n_estimators': [100, 200],\n",
        "    'classifier__max_depth': [3, 5],\n",
        "    'classifier__learning_rate': [0.05, 0.1]\n",
        "}\n",
        "\n",
        "# Encode the target variable\n",
        "y_train_encoded = y_train.apply(lambda x: 1 if x == 'Yes' else 0)\n",
        "y_test_encoded = y_test.apply(lambda x: 1 if x == 'Yes' else 0)\n",
        "\n",
        "xgb_grid = GridSearchCV(xgb_pipeline, xgb_params, cv=cv, scoring='accuracy', verbose=2)\n",
        "xgb_grid.fit(X_train, y_train_encoded)\n",
        "\n",
        "print(\"\\nXGBoost Best Params:\", xgb_grid.best_params_)\n",
        "print(\"XGBoost Test Accuracy:\", xgb_grid.score(X_test, y_test_encoded))\n",
        "y_pred_xgb = xgb_grid.predict(X_test)\n",
        "\n",
        "print(\"\\nXGBoost Classification Report:\")\n",
        "print(classification_report(y_test_encoded, y_pred_xgb))\n",
        "\n",
        "ConfusionMatrixDisplay.from_predictions(y_test_encoded, y_pred_xgb, cmap='coolwarm')\n",
        "plt.title(\"XGBoost Confusion Matrix\")\n",
        "plt.show()"
      ]
    },
    {
      "cell_type": "markdown",
      "metadata": {},
      "source": [
        "## Step 11: ROC Comparison"
      ]
    },
    {
      "cell_type": "code",
      "execution_count": null,
      "metadata": {
        "colab": {
          "base_uri": "https://localhost:8080/",
          "height": 564
        },
        "id": "85loyp3YQx9I",
        "outputId": "0ec33f02-4dd0-4924-9363-6af030fde88a"
      },
      "outputs": [
        {
          "data": {
            "image/png": "[encoded data removed]",
            "text/plain": [
              "<Figure size 800x600 with 1 Axes>"
            ]
          },
          "metadata": {},
          "output_type": "display_data"
        }
      ],
      "source": [
        "\n",
        "plt.figure(figsize=(8,6))\n",
        "\n",
        "for name, grid in {\n",
        "    'RandomForest': rf_grid,\n",
        "    'LogisticRegression': lr_grid,\n",
        "    'SVM': svm_grid,\n",
        "    'KNN': knn_grid,\n",
        "    'GradientBoosting': gb_grid,\n",
        "    'XGBoost': xgb_grid\n",
        "}.items():\n",
        "    y_prob = grid.predict_proba(X_test)[:,1]\n",
        "    fpr, tpr, _ = roc_curve(y_test.map({'No':0, 'Yes':1}), y_prob)\n",
        "    auc = roc_auc_score(y_test.map({'No':0, 'Yes':1}), y_prob)\n",
        "    plt.plot(fpr, tpr, label=f\"{name} (AUC={auc:.2f})\")\n",
        "\n",
        "plt.plot([0,1], [0,1], 'k--')\n",
        "plt.xlabel(\"False Positive Rate\")\n",
        "plt.ylabel(\"True Positive Rate\")\n",
        "plt.title(\"ROC Curve Comparison\")\n",
        "plt.legend()\n",
        "plt.show()"
      ]
    },
    {
      "cell_type": "markdown",
      "metadata": {},
      "source": [
        "## Step 12: Model Comparison Summary"
      ]
    },
    {
      "cell_type": "code",
      "execution_count": null,
      "metadata": {
        "colab": {
          "base_uri": "https://localhost:8080/"
        },
        "id": "jL79PC98W0dK",
        "outputId": "a23b155a-6e90-4965-dddc-e15748c74f85"
      },
      "outputs": [
        {
          "name": "stdout",
          "output_type": "stream",
          "text": [
            "✅ Model Comparison Summary:\n",
            "\n",
            "Model                Test Accuracy   Best Params\n",
            "----------------------------------------------------------------------\n",
            "RandomForest         0.8446          {'classifier__max_depth': 20, 'classifier__min_samples_split': 2, 'classifier__n_estimators': 100}\n",
            "LogisticRegression   0.8300          {'classifier__class_weight': None, 'classifier__penalty': 'l2', 'classifier__solver': 'liblinear'}\n",
            "SVM                  0.8353          {'classifier__C': 1, 'classifier__kernel': 'rbf'}\n",
            "KNN                  0.8142          {'classifier__n_neighbors': 7, 'classifier__weights': 'distance'}\n",
            "GradientBoosting     0.8472          {'classifier__learning_rate': 0.1, 'classifier__max_depth': 5, 'classifier__n_estimators': 200}\n",
            "XGBoost              0.7632          {'classifier__learning_rate': 0.1, 'classifier__max_depth': 5, 'classifier__n_estimators': 200}\n",
            "\n",
            "AUC Scores:\n",
            "Model                AUC       \n",
            "------------------------------\n",
            "RandomForest         0.8884    \n",
            "LogisticRegression   0.8512    \n",
            "SVM                  0.8613    \n",
            "KNN                  0.8443    \n",
            "GradientBoosting     0.8867    \n",
            "XGBoost              0.8906    \n"
          ]
        }
      ],
      "source": [
        "from sklearn.metrics import accuracy_score\n",
        "\n",
        "models = {\n",
        "    \"RandomForest\": rf_grid,\n",
        "    \"LogisticRegression\": lr_grid,\n",
        "    \"SVM\": svm_grid,\n",
        "    \"KNN\": knn_grid,\n",
        "    \"GradientBoosting\": gb_grid,\n",
        "    \"XGBoost\": xgb_grid\n",
        "}\n",
        "\n",
        "print(\"✅ Model Comparison Summary:\\n\")\n",
        "print(f\"{'Model':<20} {'Test Accuracy':<15} {'Best Params'}\")\n",
        "print(\"-\"*70)\n",
        "\n",
        "for name, grid in models.items():\n",
        "    y_pred = grid.predict(X_test)\n",
        "    y_pred_encoded = [1 if pred == 'Yes' else 0 for pred in y_pred] # Encode predictions\n",
        "    accuracy = accuracy_score(y_test_encoded, y_pred_encoded)\n",
        "    print(f\"{name:<20} {accuracy:<15.4f} {grid.best_params_}\")\n",
        "\n",
        "# Optional: Compare AUCs too\n",
        "print(\"\\nAUC Scores:\")\n",
        "print(f\"{'Model':<20} {'AUC':<10}\")\n",
        "print(\"-\"*30)\n",
        "for name, grid in models.items():\n",
        "    y_prob = grid.predict_proba(X_test)[:,1]\n",
        "    auc = roc_auc_score(y_test_encoded, y_prob)\n",
        "    print(f\"{name:<20} {auc:<10.4f}\")"
      ]
    },
    {
      "cell_type": "code",
      "execution_count": null,
      "metadata": {
        "colab": {
          "base_uri": "https://localhost:8080/"
        },
        "id": "WNEapt_yW7PX",
        "outputId": "7d5f0bea-3f30-4459-cac2-51f8205ca23e"
      },
      "outputs": [
        {
          "name": "stdout",
          "output_type": "stream",
          "text": [
            "✅ Exercises & Concepts Covered in This Project:\n",
            "1. Data loading, cleaning, and filtering\n",
            "2. Feature engineering (Date → Season)\n",
            "3. Train-test split with stratification\n",
            "4. Preprocessing pipelines (scaling + encoding)\n",
            "5. Model building and hyperparameter tuning for:\n",
            "   - Random Forest, Logistic Regression, SVM, KNN, Gradient Boosting, XGBoost\n",
            "6. Model evaluation with accuracy, classification report, confusion matrices\n",
            "7. Probabilistic evaluation with ROC curves and AUC\n",
            "8. Model comparison and visualization\n",
            "9. End-to-end ML workflow implementation\n"
          ]
        }
      ],
      "source": [
        "\n",
        "print(\"✅ Exercises & Concepts Covered in This Project:\")\n",
        "print(\"1. Data loading, cleaning, and filtering\")\n",
        "print(\"2. Feature engineering (Date → Season)\")\n",
        "print(\"3. Train-test split with stratification\")\n",
        "print(\"4. Preprocessing pipelines (scaling + encoding)\")\n",
        "print(\"5. Model building and hyperparameter tuning for:\")\n",
        "print(\"   - Random Forest, Logistic Regression, SVM, KNN, Gradient Boosting, XGBoost\")\n",
        "print(\"6. Model evaluation with accuracy, classification report, confusion matrices\")\n",
        "print(\"7. Probabilistic evaluation with ROC curves and AUC\")\n",
        "print(\"8. Model comparison and visualization\")\n",
        "print(\"9. End-to-end ML workflow implementation\")\n",
        "\n"
      ]
    },
    {
      "cell_type": "code",
      "execution_count": null,
      "metadata": {
        "colab": {
          "base_uri": "https://localhost:8080/"
        },
        "id": "qi-AUfX2YVza",
        "outputId": "a3ef098e-9000-4135-bb3d-4d29366aab9a"
      },
      "outputs": [
        {
          "name": "stdout",
          "output_type": "stream",
          "text": [
            "\n",
            "💡 Final Takeaways:\n",
            "1. Random Forest, Gradient Boosting, and XGBoost generally perform best on tabular classification data.\n",
            "2. Logistic Regression and SVM are simpler models, good for baseline comparison.\n",
            "3. KNN can be sensitive to feature scaling and data size; careful tuning is needed.\n",
            "4. Using pipelines + GridSearchCV ensures reproducible preprocessing and hyperparameter optimization.\n",
            "5. ROC-AUC provides a probabilistic performance comparison beyond simple accuracy.\n",
            "6. This workflow can be adapted for other real-world tabular datasets with minimal changes.\n"
          ]
        }
      ],
      "source": [
        "print(\"\\n💡 Final Takeaways:\")\n",
        "print(\"1. Random Forest, Gradient Boosting, and XGBoost generally perform best on tabular classification data.\")\n",
        "print(\"2. Logistic Regression and SVM are simpler models, good for baseline comparison.\")\n",
        "print(\"3. KNN can be sensitive to feature scaling and data size; careful tuning is needed.\")\n",
        "print(\"4. Using pipelines + GridSearchCV ensures reproducible preprocessing and hyperparameter optimization.\")\n",
        "print(\"5. ROC-AUC provides a probabilistic performance comparison beyond simple accuracy.\")\n",
        "print(\"6. This workflow can be adapted for other real-world tabular datasets with minimal changes.\")\n"
      ]
    },
    {
      "cell_type": "code",
      "execution_count": null,
      "metadata": {
        "id": "9ENXd-p7YX-5"
      },
      "outputs": [],
      "source": []
    },
    {
      "cell_type": "code",
      "execution_count": null,
      "metadata": {
        "id": "ZFZ7Z9gDYoep"
      },
      "outputs": [],
      "source": []
    }
  ],
  "metadata": {
    "colab": {
      "provenance": []
    },
    "kernelspec": {
      "display_name": "Python 3",
      "name": "python3"
    },
    "language_info": {
      "name": "python"
    }
  },
  "nbformat": 4,
  "nbformat_minor": 0
}
